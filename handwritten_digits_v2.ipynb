{
  "nbformat": 4,
  "nbformat_minor": 0,
  "metadata": {
    "colab": {
      "provenance": []
    },
    "kernelspec": {
      "name": "python3",
      "display_name": "Python 3"
    },
    "language_info": {
      "name": "python"
    }
  },
  "cells": [
    {
      "cell_type": "code",
      "execution_count": null,
      "metadata": {
        "id": "SEMTdtvezGVG"
      },
      "outputs": [],
      "source": [
        "import tensorflow as tf\n",
        "from tensorflow.keras.layers import Dense, Flatten, Conv2D, MaxPooling2D\n",
        "from tensorflow.keras.models import Sequential\n",
        "import numpy as np\n",
        "import matplotlib.pyplot as plt\n",
        "from PIL import Image"
      ]
    },
    {
      "cell_type": "code",
      "source": [
        "data = tf.keras.datasets.mnist"
      ],
      "metadata": {
        "id": "ksL-BGixzQGO"
      },
      "execution_count": null,
      "outputs": []
    },
    {
      "cell_type": "code",
      "source": [
        "(x_train, y_train), (x_test, y_test) = data.load_data()"
      ],
      "metadata": {
        "id": "NZ7CyKQMzaQk"
      },
      "execution_count": null,
      "outputs": []
    },
    {
      "cell_type": "code",
      "source": [
        "x_train_normalized = x_train / 255.0\n",
        "x_test_normalized = x_test / 255.0"
      ],
      "metadata": {
        "id": "62ch6FhWz4Iv"
      },
      "execution_count": null,
      "outputs": []
    },
    {
      "cell_type": "code",
      "source": [
        "x_train_normalized[0][20]"
      ],
      "metadata": {
        "colab": {
          "base_uri": "https://localhost:8080/"
        },
        "id": "S6u-OifaQjRH",
        "outputId": "6124decc-b1f2-465f-86f0-46e5e5949eb5"
      },
      "execution_count": null,
      "outputs": [
        {
          "output_type": "execute_result",
          "data": {
            "text/plain": [
              "array([0.        , 0.        , 0.        , 0.        , 0.        ,\n",
              "       0.        , 0.        , 0.        , 0.        , 0.        ,\n",
              "       0.09411765, 0.44705882, 0.86666667, 0.99215686, 0.99215686,\n",
              "       0.99215686, 0.99215686, 0.78823529, 0.30588235, 0.        ,\n",
              "       0.        , 0.        , 0.        , 0.        , 0.        ,\n",
              "       0.        , 0.        , 0.        ])"
            ]
          },
          "metadata": {},
          "execution_count": 71
        }
      ]
    },
    {
      "cell_type": "code",
      "source": [
        "model = Sequential(\n",
        "    [\n",
        "      Conv2D(32, (3, 3), activation='relu', input_shape=(28, 28, 1)),\n",
        "      MaxPooling2D((2, 2)),\n",
        "\n",
        "      Conv2D(64, (3, 3), activation='relu'),\n",
        "      MaxPooling2D((2, 2)),\n",
        "\n",
        "      Conv2D(64, (3, 3), activation='relu'),\n",
        "      MaxPooling2D((2, 2)),\n",
        "\n",
        "      Flatten(),\n",
        "\n",
        "      Dense(64, activation='relu'),\n",
        "      Dense(10, activation='softmax')\n",
        "\n",
        "    ],\n",
        "    name = \"cnn_model\"\n",
        ")"
      ],
      "metadata": {
        "id": "JTu37rNn2lUJ"
      },
      "execution_count": null,
      "outputs": []
    },
    {
      "cell_type": "code",
      "source": [
        "model.summary()"
      ],
      "metadata": {
        "colab": {
          "base_uri": "https://localhost:8080/"
        },
        "id": "tuU8g7WuIQ35",
        "outputId": "bdd5ccf9-97f4-4e65-8277-5e863967b881"
      },
      "execution_count": null,
      "outputs": [
        {
          "output_type": "stream",
          "name": "stdout",
          "text": [
            "Model: \"cnn_model\"\n",
            "_________________________________________________________________\n",
            " Layer (type)                Output Shape              Param #   \n",
            "=================================================================\n",
            " conv2d_6 (Conv2D)           (None, 26, 26, 32)        320       \n",
            "                                                                 \n",
            " max_pooling2d_5 (MaxPoolin  (None, 13, 13, 32)        0         \n",
            " g2D)                                                            \n",
            "                                                                 \n",
            " conv2d_7 (Conv2D)           (None, 11, 11, 64)        18496     \n",
            "                                                                 \n",
            " max_pooling2d_6 (MaxPoolin  (None, 5, 5, 64)          0         \n",
            " g2D)                                                            \n",
            "                                                                 \n",
            " conv2d_8 (Conv2D)           (None, 3, 3, 64)          36928     \n",
            "                                                                 \n",
            " max_pooling2d_7 (MaxPoolin  (None, 1, 1, 64)          0         \n",
            " g2D)                                                            \n",
            "                                                                 \n",
            " flatten_2 (Flatten)         (None, 64)                0         \n",
            "                                                                 \n",
            " dense_4 (Dense)             (None, 64)                4160      \n",
            "                                                                 \n",
            " dense_5 (Dense)             (None, 10)                650       \n",
            "                                                                 \n",
            "=================================================================\n",
            "Total params: 60554 (236.54 KB)\n",
            "Trainable params: 60554 (236.54 KB)\n",
            "Non-trainable params: 0 (0.00 Byte)\n",
            "_________________________________________________________________\n"
          ]
        }
      ]
    },
    {
      "cell_type": "code",
      "source": [
        "model.compile(optimizer='adam', loss='sparse_categorical_crossentropy', metrics=['accuracy'])"
      ],
      "metadata": {
        "id": "qpF8OaAV4EoX"
      },
      "execution_count": null,
      "outputs": []
    },
    {
      "cell_type": "code",
      "source": [
        "model.fit(x_train_normalized, y_train, epochs=10)"
      ],
      "metadata": {
        "colab": {
          "base_uri": "https://localhost:8080/"
        },
        "id": "jHgVhCR-43_z",
        "outputId": "411907e5-7830-4d63-b58b-1705faee5bfd"
      },
      "execution_count": null,
      "outputs": [
        {
          "output_type": "stream",
          "name": "stdout",
          "text": [
            "Epoch 1/10\n",
            "1875/1875 [==============================] - 56s 29ms/step - loss: 0.2180 - accuracy: 0.9306\n",
            "Epoch 2/10\n",
            "1875/1875 [==============================] - 55s 29ms/step - loss: 0.0759 - accuracy: 0.9765\n",
            "Epoch 3/10\n",
            "1875/1875 [==============================] - 54s 29ms/step - loss: 0.0555 - accuracy: 0.9831\n",
            "Epoch 4/10\n",
            "1875/1875 [==============================] - 55s 29ms/step - loss: 0.0425 - accuracy: 0.9866\n",
            "Epoch 5/10\n",
            "1875/1875 [==============================] - 53s 28ms/step - loss: 0.0347 - accuracy: 0.9894\n",
            "Epoch 6/10\n",
            "1875/1875 [==============================] - 53s 28ms/step - loss: 0.0279 - accuracy: 0.9915\n",
            "Epoch 7/10\n",
            "1875/1875 [==============================] - 53s 28ms/step - loss: 0.0233 - accuracy: 0.9925\n",
            "Epoch 8/10\n",
            "1875/1875 [==============================] - 54s 29ms/step - loss: 0.0189 - accuracy: 0.9939\n",
            "Epoch 9/10\n",
            "1875/1875 [==============================] - 53s 28ms/step - loss: 0.0160 - accuracy: 0.9949\n",
            "Epoch 10/10\n",
            "1875/1875 [==============================] - 53s 29ms/step - loss: 0.0153 - accuracy: 0.9947\n"
          ]
        },
        {
          "output_type": "execute_result",
          "data": {
            "text/plain": [
              "<keras.src.callbacks.History at 0x7d5c364021a0>"
            ]
          },
          "metadata": {},
          "execution_count": 75
        }
      ]
    },
    {
      "cell_type": "code",
      "source": [
        "score = model.evaluate(x_test_normalized, y_test)\n",
        "print(score)"
      ],
      "metadata": {
        "colab": {
          "base_uri": "https://localhost:8080/"
        },
        "id": "NY-W9GOF_Ybp",
        "outputId": "e56bb4cd-fb49-4856-9481-3f95498b0dd2"
      },
      "execution_count": null,
      "outputs": [
        {
          "output_type": "stream",
          "name": "stdout",
          "text": [
            "313/313 [==============================] - 3s 11ms/step - loss: 0.0550 - accuracy: 0.9871\n",
            "[0.055046968162059784, 0.9871000051498413]\n"
          ]
        }
      ]
    },
    {
      "cell_type": "code",
      "source": [
        "pred = model.predict(x_test_normalized)"
      ],
      "metadata": {
        "colab": {
          "base_uri": "https://localhost:8080/"
        },
        "id": "TQ2cC74tBanG",
        "outputId": "019c2b7a-1496-40ad-e695-8bbfe734c5c3"
      },
      "execution_count": null,
      "outputs": [
        {
          "output_type": "stream",
          "name": "stdout",
          "text": [
            "313/313 [==============================] - 3s 10ms/step\n"
          ]
        }
      ]
    },
    {
      "cell_type": "code",
      "source": [
        "print(pred)"
      ],
      "metadata": {
        "colab": {
          "base_uri": "https://localhost:8080/"
        },
        "id": "alSBqhXMB1cs",
        "outputId": "b009c9e7-a79f-42c9-c463-f990e6df7d0f"
      },
      "execution_count": null,
      "outputs": [
        {
          "output_type": "stream",
          "name": "stdout",
          "text": [
            "[[8.2451268e-12 8.6320988e-06 8.8013144e-07 ... 9.9999028e-01\n",
            "  1.6373775e-10 2.0416261e-08]\n",
            " [3.6359673e-09 9.7567430e-09 9.9999958e-01 ... 4.1716579e-08\n",
            "  2.8670688e-09 2.7384386e-09]\n",
            " [7.2311837e-09 9.9999660e-01 4.4867380e-07 ... 4.8260978e-07\n",
            "  5.8901151e-08 4.1240984e-08]\n",
            " ...\n",
            " [6.1661719e-19 1.7315393e-12 1.4476321e-17 ... 7.3898161e-15\n",
            "  4.9310355e-14 1.3562374e-11]\n",
            " [2.3150104e-08 1.6633613e-11 3.5203539e-12 ... 2.1621019e-13\n",
            "  2.3186031e-08 1.0919578e-08]\n",
            " [8.9084233e-09 2.1721572e-10 1.8831276e-08 ... 3.6516560e-15\n",
            "  9.8792441e-10 3.2320757e-10]]\n"
          ]
        }
      ]
    },
    {
      "cell_type": "code",
      "source": [
        "print(np.argmax(pred[0]))"
      ],
      "metadata": {
        "colab": {
          "base_uri": "https://localhost:8080/"
        },
        "id": "ThAoXEQ3B2Ti",
        "outputId": "ff506166-af2f-44a2-c005-446125dacfef"
      },
      "execution_count": null,
      "outputs": [
        {
          "output_type": "stream",
          "name": "stdout",
          "text": [
            "7\n"
          ]
        }
      ]
    },
    {
      "cell_type": "code",
      "source": [
        "plt.imshow(x_test_normalized[0], cmap=plt.cm.binary)\n",
        "plt.show()"
      ],
      "metadata": {
        "colab": {
          "base_uri": "https://localhost:8080/",
          "height": 430
        },
        "id": "QJbByxAiCCX5",
        "outputId": "613b52e6-1890-4b71-ccb0-869cd535d825"
      },
      "execution_count": null,
      "outputs": [
        {
          "output_type": "display_data",
          "data": {
            "text/plain": [
              "<Figure size 640x480 with 1 Axes>"
            ],
            "image/png": "[encoded data removed]"
          },
          "metadata": {}
        }
      ]
    },
    {
      "cell_type": "code",
      "source": [
        "x_test_normalized[0][0]"
      ],
      "metadata": {
        "colab": {
          "base_uri": "https://localhost:8080/"
        },
        "id": "-Z3NRAi2zYAx",
        "outputId": "15786c0e-17b6-43ed-adc6-3125758ab621"
      },
      "execution_count": null,
      "outputs": [
        {
          "output_type": "execute_result",
          "data": {
            "text/plain": [
              "array([0., 0., 0., 0., 0., 0., 0., 0., 0., 0., 0., 0., 0., 0., 0., 0., 0.,\n",
              "       0., 0., 0., 0., 0., 0., 0., 0., 0., 0., 0.])"
            ]
          },
          "metadata": {},
          "execution_count": 81
        }
      ]
    },
    {
      "cell_type": "code",
      "source": [
        "model.save('model3')"
      ],
      "metadata": {
        "id": "Cjxy2mhqCVjm"
      },
      "execution_count": null,
      "outputs": []
    },
    {
      "cell_type": "code",
      "source": [
        "## Test model\n",
        "model3 = tf.keras.models.load_model('model3')"
      ],
      "metadata": {
        "id": "AWb8bJGJXtnf"
      },
      "execution_count": null,
      "outputs": []
    },
    {
      "cell_type": "code",
      "source": [
        "image_path = 'sebi_3.png'"
      ],
      "metadata": {
        "id": "ZbivCREaYaWz"
      },
      "execution_count": null,
      "outputs": []
    },
    {
      "cell_type": "code",
      "source": [
        "image = Image.open(image_path).convert('L') #convert to greyscale\n",
        "image"
      ],
      "metadata": {
        "colab": {
          "base_uri": "https://localhost:8080/",
          "height": 83
        },
        "id": "caA468V3dykQ",
        "outputId": "e605e2f6-2b51-4718-d2da-b11326467c83"
      },
      "execution_count": null,
      "outputs": [
        {
          "output_type": "execute_result",
          "data": {
            "text/plain": [
              "<PIL.Image.Image image mode=L size=66x66>"
            ],
            "image/png": "[encoded data removed]"
          },
          "metadata": {},
          "execution_count": 104
        }
      ]
    },
    {
      "cell_type": "code",
      "source": [
        "image = image.resize((28, 28))\n",
        "image"
      ],
      "metadata": {
        "colab": {
          "base_uri": "https://localhost:8080/",
          "height": 45
        },
        "id": "hEzn_Fk9eS9N",
        "outputId": "35a3d10b-30c2-42be-e07f-bdca73c52431"
      },
      "execution_count": null,
      "outputs": [
        {
          "output_type": "execute_result",
          "data": {
            "text/plain": [
              "<PIL.Image.Image image mode=L size=28x28>"
            ],
            "image/png": "[encoded data removed]"
          },
          "metadata": {},
          "execution_count": 105
        }
      ]
    },
    {
      "cell_type": "code",
      "source": [
        "image_array = np.array(image) / 255.0\n",
        "#image_array = 1 - image_array"
      ],
      "metadata": {
        "id": "0eGY2zooefAN"
      },
      "execution_count": null,
      "outputs": []
    },
    {
      "cell_type": "code",
      "source": [
        "plt.imshow(image_array, cmap=plt.cm.binary)\n",
        "plt.show()"
      ],
      "metadata": {
        "colab": {
          "base_uri": "https://localhost:8080/",
          "height": 430
        },
        "id": "w_DkPFW8nCG-",
        "outputId": "0f9137fd-f68c-46ad-f407-4303df1b62b1"
      },
      "execution_count": null,
      "outputs": [
        {
          "output_type": "display_data",
          "data": {
            "text/plain": [
              "<Figure size 640x480 with 1 Axes>"
            ],
            "image/png": "[encoded data removed]"
          },
          "metadata": {}
        }
      ]
    },
    {
      "cell_type": "code",
      "source": [
        "image_input = image_array.reshape(1, 28, 28, 1).astype('float32')"
      ],
      "metadata": {
        "id": "pwszNYzce5I5"
      },
      "execution_count": null,
      "outputs": []
    },
    {
      "cell_type": "code",
      "source": [
        "p = model3.predict(image_input)"
      ],
      "metadata": {
        "colab": {
          "base_uri": "https://localhost:8080/"
        },
        "id": "XfBlU5HqfRyO",
        "outputId": "1c707eba-2575-4ace-eaa6-2969969db70a"
      },
      "execution_count": null,
      "outputs": [
        {
          "output_type": "stream",
          "name": "stdout",
          "text": [
            "1/1 [==============================] - 0s 104ms/step\n"
          ]
        }
      ]
    },
    {
      "cell_type": "code",
      "source": [
        "image"
      ],
      "metadata": {
        "colab": {
          "base_uri": "https://localhost:8080/",
          "height": 45
        },
        "id": "UlSxEWPfin3N",
        "outputId": "f7833947-5798-4e85-ab99-2e087aa586f7"
      },
      "execution_count": null,
      "outputs": [
        {
          "output_type": "execute_result",
          "data": {
            "text/plain": [
              "<PIL.Image.Image image mode=L size=28x28>"
            ],
            "image/png": "[encoded data removed]"
          },
          "metadata": {},
          "execution_count": 110
        }
      ]
    },
    {
      "cell_type": "code",
      "source": [
        "print(np.argmax(p))"
      ],
      "metadata": {
        "colab": {
          "base_uri": "https://localhost:8080/"
        },
        "id": "cb9ii72Oi49T",
        "outputId": "59a373dd-cfe5-4f37-a5e9-b0ca6495c371"
      },
      "execution_count": null,
      "outputs": [
        {
          "output_type": "stream",
          "name": "stdout",
          "text": [
            "3\n"
          ]
        }
      ]
    },
    {
      "cell_type": "code",
      "source": [
        "print(p)"
      ],
      "metadata": {
        "colab": {
          "base_uri": "https://localhost:8080/"
        },
        "id": "Re3x1RsHjNQH",
        "outputId": "e0541ba2-2110-47cd-d1ae-791d8438e445"
      },
      "execution_count": null,
      "outputs": [
        {
          "output_type": "stream",
          "name": "stdout",
          "text": [
            "[[0.00179345 0.045282   0.07137347 0.7794313  0.01278057 0.0254225\n",
            "  0.00420535 0.02057382 0.02679452 0.01234302]]\n"
          ]
        }
      ]
    },
    {
      "cell_type": "code",
      "source": [
        "from google.colab import drive\n",
        "drive.mount('/gdrive')"
      ],
      "metadata": {
        "id": "BtUdToD0Ayjq",
        "colab": {
          "base_uri": "https://localhost:8080/"
        },
        "outputId": "f83c4539-e48d-4721-ccdc-b455660d81a4"
      },
      "execution_count": null,
      "outputs": [
        {
          "output_type": "stream",
          "name": "stdout",
          "text": [
            "Mounted at /gdrive\n"
          ]
        }
      ]
    },
    {
      "cell_type": "code",
      "source": [
        "import shutil"
      ],
      "metadata": {
        "id": "J6XXLTnEl-ZM"
      },
      "execution_count": null,
      "outputs": []
    },
    {
      "cell_type": "code",
      "source": [
        "shutil.copytree('/content/model3','/gdrive/MyDrive/ML/Models/HandwrittenDigitsModel')"
      ],
      "metadata": {
        "colab": {
          "base_uri": "https://localhost:8080/",
          "height": 35
        },
        "id": "3zxuavPXoX7D",
        "outputId": "20b08c49-71e8-438c-db4d-9fb1e0de6844"
      },
      "execution_count": null,
      "outputs": [
        {
          "output_type": "execute_result",
          "data": {
            "text/plain": [
              "'/gdrive/MyDrive/ML/Models/HandwrittenDigitsModel'"
            ],
            "application/vnd.google.colaboratory.intrinsic+json": {
              "type": "string"
            }
          },
          "metadata": {},
          "execution_count": 126
        }
      ]
    },
    {
      "cell_type": "code",
      "source": [
        "# Conclusions:\n",
        "# Them model has been improved by changing the hidden layers from Dense to Convolutional layers with MaxPooling\n",
        "# The model has a better accuracy now in detecting my own handwritten digits\n",
        "# To do: Prevent overfitting, try data augmentation and regularization"
      ],
      "metadata": {
        "id": "D-YBn5EYogHC"
      },
      "execution_count": 2,
      "outputs": []
    }
  ]
}